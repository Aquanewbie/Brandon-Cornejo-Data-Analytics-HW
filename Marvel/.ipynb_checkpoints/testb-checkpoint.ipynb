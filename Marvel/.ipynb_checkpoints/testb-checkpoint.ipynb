{
 "cells": [
  {
   "cell_type": "code",
   "execution_count": 1,
   "metadata": {},
   "outputs": [],
   "source": [
    "import json\n",
    "import requests\n",
    "#from config import api_key"
   ]
  },
  {
   "cell_type": "code",
   "execution_count": 2,
   "metadata": {},
   "outputs": [
    {
     "name": "stdout",
     "output_type": "stream",
     "text": [
      "https://gateway.marvel.com:443/v1/public/characters?name=Captain America&apikey=ee6521155b0ec25ca7f02668eb93f694\n"
     ]
    }
   ],
   "source": [
    "base_url = \"https://gateway.marvel.com:443/v1/public/characters?name=\"\n",
    "api_key = \"f8d4414acb2707efc313acc353e527e2\"\n",
    "avengers = ['Thor', 'Hulk', 'Iron Man', 'Captain America']\n",
    "\n",
    "for avenger in avengers:\n",
    "    target_url = (base_url + avenger + \"&apikey=\" + api_key + 'hash' = )\n",
    "    response= requests.get(target_url).json()\n",
    "    \n",
    "print(target_url)\n"
   ]
  },
  {
   "cell_type": "code",
   "execution_count": 3,
   "metadata": {},
   "outputs": [
    {
     "data": {
      "text/plain": [
       "{'code': 'MissingParameter', 'message': 'You must provide a hash.'}"
      ]
     },
     "execution_count": 3,
     "metadata": {},
     "output_type": "execute_result"
    }
   ],
   "source": [
    "response"
   ]
  },
  {
   "cell_type": "code",
   "execution_count": null,
   "metadata": {},
   "outputs": [],
   "source": []
  }
 ],
 "metadata": {
  "kernelspec": {
   "display_name": "Python 3",
   "language": "python",
   "name": "python3"
  },
  "language_info": {
   "codemirror_mode": {
    "name": "ipython",
    "version": 3
   },
   "file_extension": ".py",
   "mimetype": "text/x-python",
   "name": "python",
   "nbconvert_exporter": "python",
   "pygments_lexer": "ipython3",
   "version": "3.7.3"
  }
 },
 "nbformat": 4,
 "nbformat_minor": 2
}
