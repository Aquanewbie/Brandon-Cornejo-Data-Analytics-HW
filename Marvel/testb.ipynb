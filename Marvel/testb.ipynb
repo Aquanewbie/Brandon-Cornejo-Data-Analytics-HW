{
 "cells": [
  {
   "cell_type": "code",
   "execution_count": 1,
   "metadata": {},
   "outputs": [],
   "source": [
    "import json\n",
    "import requests\n",
    "#from config import api_key"
   ]
  },
  {
   "cell_type": "code",
   "execution_count": 6,
   "metadata": {},
   "outputs": [
    {
     "ename": "SyntaxError",
     "evalue": "invalid syntax (<ipython-input-6-f36e16e9325d>, line 7)",
     "output_type": "error",
     "traceback": [
      "\u001b[0;36m  File \u001b[0;32m\"<ipython-input-6-f36e16e9325d>\"\u001b[0;36m, line \u001b[0;32m7\u001b[0m\n\u001b[0;31m    target_url = (base_url + avenger + \"&apikey=\" + api_key + '&hash' = hashval)\u001b[0m\n\u001b[0m                                                                      ^\u001b[0m\n\u001b[0;31mSyntaxError\u001b[0m\u001b[0;31m:\u001b[0m invalid syntax\n"
     ]
    }
   ],
   "source": [
    "base_url = \"https://gateway.marvel.com:443/v1/public/characters?name=\"\n",
    "api_key = \"f8d4414acb2707efc313acc353e527e2\"\n",
    "avengers = ['Thor', 'Hulk', 'Iron Man', 'Captain America']\n",
    "hashval = ' 0702c2c6eda06844f73c430993a3edd8'\n",
    "\n",
    "for avenger in avengers:\n",
    "    target_url = f\"{base_url}appid={api_key}&units={units}&q=\"\n",
    "    #target_url = (base_url + avenger + \"&apikey=\" + api_key + '&hash' = hashval)\n",
    "    response= requests.get(target_url).json()\n",
    "    \n",
    "print(target_url)\n"
   ]
  },
  {
   "cell_type": "code",
   "execution_count": 3,
   "metadata": {},
   "outputs": [
    {
     "data": {
      "text/plain": [
       "{'code': 'MissingParameter', 'message': 'You must provide a hash.'}"
      ]
     },
     "execution_count": 3,
     "metadata": {},
     "output_type": "execute_result"
    }
   ],
   "source": [
    "response"
   ]
  },
  {
   "cell_type": "code",
   "execution_count": null,
   "metadata": {},
   "outputs": [],
   "source": []
  }
 ],
 "metadata": {
  "kernelspec": {
   "display_name": "Python 3",
   "language": "python",
   "name": "python3"
  },
  "language_info": {
   "codemirror_mode": {
    "name": "ipython",
    "version": 3
   },
   "file_extension": ".py",
   "mimetype": "text/x-python",
   "name": "python",
   "nbconvert_exporter": "python",
   "pygments_lexer": "ipython3",
   "version": "3.7.3"
  }
 },
 "nbformat": 4,
 "nbformat_minor": 2
}
