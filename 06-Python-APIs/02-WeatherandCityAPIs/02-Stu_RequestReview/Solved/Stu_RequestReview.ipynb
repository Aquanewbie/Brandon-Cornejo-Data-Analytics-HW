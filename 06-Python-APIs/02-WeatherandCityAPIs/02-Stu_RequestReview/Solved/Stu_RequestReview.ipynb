{
 "cells": [
  {
   "cell_type": "code",
   "execution_count": 1,
   "metadata": {},
   "outputs": [],
   "source": [
    "# Dependencies\n",
    "import json\n",
    "import requests "
   ]
  },
  {
   "cell_type": "code",
   "execution_count": 2,
   "metadata": {},
   "outputs": [
    {
     "name": "stdout",
     "output_type": "stream",
     "text": [
      "200\n"
     ]
    }
   ],
   "source": [
    "# Specify the URL\n",
    "url = \"http://nyt-mongo-scraper.herokuapp.com/api/headlines\"\n",
    "\n",
    "# Make request and store response\n",
    "response = requests.get(url)\n",
    "\n",
    "# Print status code\n",
    "print(response.status_code)"
   ]
  },
  {
   "cell_type": "code",
   "execution_count": 3,
   "metadata": {},
   "outputs": [],
   "source": [
    "# JSON-ify response\n",
    "response_json = response.json()"
   ]
  },
  {
   "cell_type": "code",
   "execution_count": 4,
   "metadata": {
    "scrolled": true
   },
   "outputs": [
    {
     "name": "stdout",
     "output_type": "stream",
     "text": [
      "The first response is {\n",
      "  \"saved\": true,\n",
      "  \"_id\": \"5d890ed305254a00155293cf\",\n",
      "  \"headline\": \"Leaders Get a Chance to Answer Youth Protests at U.N. Climate TalksDemonstrations continued in Washington with blockades of intersections and street dances that resulted in a smattering of arrests.\",\n",
      "  \"summary\": \"Dozens of presidents, prime ministers and executives will try to show that they are working to reduce emissions at the summit that begins today.\",\n",
      "  \"url\": \"https://www.nytimes.com/2019/09/23/climate/climate-summit-global-warming.html\",\n",
      "  \"date\": \"2019-09-23T18:28:35.922Z\",\n",
      "  \"__v\": 0\n",
      "}.\n",
      "The last response is {\n",
      "  \"saved\": true,\n",
      "  \"_id\": \"5d890eb105254a00155293c7\",\n",
      "  \"headline\": \"Climate Summit Opens; Teenage Activist Attacks \\u2018Business as Usual\\u2019Demonstrations continued in Washington with blockades of intersections and street dances that resulted in a smattering of arrests.\",\n",
      "  \"summary\": \"Dozens of presidents, prime ministers and executives will try to show that they are working to reduce emissions at the summit that begins today.\",\n",
      "  \"url\": \"https://www.nytimes.com/2019/09/23/climate/climate-summit-global-warming.html\",\n",
      "  \"date\": \"2019-09-23T18:28:01.859Z\",\n",
      "  \"__v\": 0\n",
      "}.\n"
     ]
    }
   ],
   "source": [
    "# Print first and last articles\n",
    "print(f\"The first response is {json.dumps(response_json[0], indent=2)}.\")\n",
    "print(f\"The last response is {json.dumps(response_json[-1], indent=2)}.\")"
   ]
  },
  {
   "cell_type": "code",
   "execution_count": 5,
   "metadata": {},
   "outputs": [
    {
     "name": "stdout",
     "output_type": "stream",
     "text": [
      "We received 9 responses.\n"
     ]
    }
   ],
   "source": [
    "print(f\"We received {len(response_json)} responses.\")"
   ]
  }
 ],
 "metadata": {
  "kernelspec": {
   "display_name": "Python 3",
   "language": "python",
   "name": "python3"
  },
  "language_info": {
   "codemirror_mode": {
    "name": "ipython",
    "version": 3
   },
   "file_extension": ".py",
   "mimetype": "text/x-python",
   "name": "python",
   "nbconvert_exporter": "python",
   "pygments_lexer": "ipython3",
   "version": "3.7.3"
  },
  "toc": {
   "base_numbering": 1,
   "nav_menu": {},
   "number_sections": true,
   "sideBar": true,
   "skip_h1_title": false,
   "title_cell": "Table of Contents",
   "title_sidebar": "Contents",
   "toc_cell": false,
   "toc_position": {},
   "toc_section_display": true,
   "toc_window_display": false
  },
  "varInspector": {
   "cols": {
    "lenName": 16,
    "lenType": 16,
    "lenVar": 40
   },
   "kernels_config": {
    "python": {
     "delete_cmd_postfix": "",
     "delete_cmd_prefix": "del ",
     "library": "var_list.py",
     "varRefreshCmd": "print(var_dic_list())"
    },
    "r": {
     "delete_cmd_postfix": ") ",
     "delete_cmd_prefix": "rm(",
     "library": "var_list.r",
     "varRefreshCmd": "cat(var_dic_list()) "
    }
   },
   "types_to_exclude": [
    "module",
    "function",
    "builtin_function_or_method",
    "instance",
    "_Feature"
   ],
   "window_display": false
  }
 },
 "nbformat": 4,
 "nbformat_minor": 2
}
