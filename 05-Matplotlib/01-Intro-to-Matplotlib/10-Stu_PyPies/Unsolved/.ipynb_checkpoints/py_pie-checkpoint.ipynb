{
 "cells": [
  {
   "cell_type": "code",
   "execution_count": 1,
   "metadata": {},
   "outputs": [],
   "source": [
    "%matplotlib notebook"
   ]
  },
  {
   "cell_type": "code",
   "execution_count": 2,
   "metadata": {},
   "outputs": [],
   "source": [
    "import matplotlib.pyplot as plt\n",
    "import numpy as np"
   ]
  },
  {
   "cell_type": "code",
   "execution_count": 3,
   "metadata": {},
   "outputs": [],
   "source": [
    "pies = [\"Apple\", \"Pumpkin\", \"Chocolate Creme\", \"Cherry\", \"Apple Crumb\",\n",
    "        \"Pecan\", \"Lemon Meringue\", \"Blueberry\", \"Key Lime\", \"Peach\"]\n",
    "pie_votes = [47, 37, 32, 27, 25, 24, 24, 21, 18, 16]\n",
    "colors = [\"yellow\", \"green\", \"lightblue\", \"orange\", \"red\",\n",
    "          \"purple\", \"pink\", \"yellowgreen\", \"lightskyblue\", \"lightcoral\"]\n",
    "explode = (0.1, 0, 0, 0, 0, 0, 0, 0, 0, 0)"
   ]
  },
  {
   "cell_type": "code",
   "execution_count": 4,
   "metadata": {},
   "outputs": [],
   "source": [
    "# Tell matplotlib to create a pie chart based upon the above data\n",
    "\n",
    "# Create axes which are equal so we have a perfect circle\n",
    "\n",
    "# Save an image of our chart and print the final product to the screen\n",
    "\n"
   ]
  },
  {
   "cell_type": "code",
   "execution_count": null,
   "metadata": {},
   "outputs": [],
   "source": []
  }
 ],
 "metadata": {
  "kernel_info": {
   "name": "python3"
  },
  "kernelspec": {
   "display_name": "Python 3",
   "language": "python",
   "name": "python3"
  },
  "language_info": {
   "codemirror_mode": {
    "name": "ipython",
    "version": 3
   },
   "file_extension": ".py",
   "mimetype": "text/x-python",
   "name": "python",
   "nbconvert_exporter": "python",
   "pygments_lexer": "ipython3",
   "version": "3.6.9"
  },
  "nteract": {
   "version": "0.11.9"
  },
  "toc": {
   "base_numbering": 1,
   "nav_menu": {},
   "number_sections": true,
   "sideBar": true,
   "skip_h1_title": false,
   "title_cell": "Table of Contents",
   "title_sidebar": "Contents",
   "toc_cell": false,
   "toc_position": {},
   "toc_section_display": true,
   "toc_window_display": false
  }
 },
 "nbformat": 4,
 "nbformat_minor": 2
}
