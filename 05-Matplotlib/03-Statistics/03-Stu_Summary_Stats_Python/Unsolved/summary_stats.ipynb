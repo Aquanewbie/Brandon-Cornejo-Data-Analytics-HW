{
 "cells": [
  {
   "cell_type": "code",
   "execution_count": 8,
   "metadata": {},
   "outputs": [],
   "source": [
    "# Dependencies\n",
    "import pandas as pd\n",
    "import matplotlib.pyplot as plt\n",
    "import scipy.stats as sts\n",
    "import numpy as np"
   ]
  },
  {
   "cell_type": "code",
   "execution_count": 5,
   "metadata": {},
   "outputs": [
    {
     "data": {
      "text/html": [
       "<div>\n",
       "<style scoped>\n",
       "    .dataframe tbody tr th:only-of-type {\n",
       "        vertical-align: middle;\n",
       "    }\n",
       "\n",
       "    .dataframe tbody tr th {\n",
       "        vertical-align: top;\n",
       "    }\n",
       "\n",
       "    .dataframe thead th {\n",
       "        text-align: right;\n",
       "    }\n",
       "</style>\n",
       "<table border=\"1\" class=\"dataframe\">\n",
       "  <thead>\n",
       "    <tr style=\"text-align: right;\">\n",
       "      <th></th>\n",
       "      <th>MedInc</th>\n",
       "      <th>HouseAge</th>\n",
       "      <th>AveRooms</th>\n",
       "      <th>AveBedrms</th>\n",
       "      <th>Population</th>\n",
       "      <th>AveOccup</th>\n",
       "      <th>Latitude</th>\n",
       "      <th>Longitude</th>\n",
       "    </tr>\n",
       "  </thead>\n",
       "  <tbody>\n",
       "    <tr>\n",
       "      <td>0</td>\n",
       "      <td>5.2742</td>\n",
       "      <td>17.0</td>\n",
       "      <td>8.908654</td>\n",
       "      <td>1.884615</td>\n",
       "      <td>351.0</td>\n",
       "      <td>1.687500</td>\n",
       "      <td>32.98</td>\n",
       "      <td>-117.27</td>\n",
       "    </tr>\n",
       "    <tr>\n",
       "      <td>1</td>\n",
       "      <td>1.8438</td>\n",
       "      <td>52.0</td>\n",
       "      <td>3.069847</td>\n",
       "      <td>1.044293</td>\n",
       "      <td>2382.0</td>\n",
       "      <td>4.057922</td>\n",
       "      <td>34.07</td>\n",
       "      <td>-118.26</td>\n",
       "    </tr>\n",
       "    <tr>\n",
       "      <td>2</td>\n",
       "      <td>7.0691</td>\n",
       "      <td>13.0</td>\n",
       "      <td>6.689697</td>\n",
       "      <td>1.009697</td>\n",
       "      <td>2444.0</td>\n",
       "      <td>2.962424</td>\n",
       "      <td>37.57</td>\n",
       "      <td>-121.87</td>\n",
       "    </tr>\n",
       "    <tr>\n",
       "      <td>3</td>\n",
       "      <td>5.4719</td>\n",
       "      <td>38.0</td>\n",
       "      <td>5.890080</td>\n",
       "      <td>0.957105</td>\n",
       "      <td>1228.0</td>\n",
       "      <td>3.292225</td>\n",
       "      <td>37.52</td>\n",
       "      <td>-122.28</td>\n",
       "    </tr>\n",
       "    <tr>\n",
       "      <td>4</td>\n",
       "      <td>4.0156</td>\n",
       "      <td>35.0</td>\n",
       "      <td>6.195312</td>\n",
       "      <td>1.171875</td>\n",
       "      <td>669.0</td>\n",
       "      <td>5.226562</td>\n",
       "      <td>33.93</td>\n",
       "      <td>-117.41</td>\n",
       "    </tr>\n",
       "    <tr>\n",
       "      <td>...</td>\n",
       "      <td>...</td>\n",
       "      <td>...</td>\n",
       "      <td>...</td>\n",
       "      <td>...</td>\n",
       "      <td>...</td>\n",
       "      <td>...</td>\n",
       "      <td>...</td>\n",
       "      <td>...</td>\n",
       "    </tr>\n",
       "    <tr>\n",
       "      <td>2995</td>\n",
       "      <td>4.5724</td>\n",
       "      <td>4.0</td>\n",
       "      <td>6.837037</td>\n",
       "      <td>1.229630</td>\n",
       "      <td>352.0</td>\n",
       "      <td>2.607407</td>\n",
       "      <td>35.10</td>\n",
       "      <td>-117.98</td>\n",
       "    </tr>\n",
       "    <tr>\n",
       "      <td>2996</td>\n",
       "      <td>3.6031</td>\n",
       "      <td>52.0</td>\n",
       "      <td>3.702592</td>\n",
       "      <td>1.062756</td>\n",
       "      <td>1438.0</td>\n",
       "      <td>1.961801</td>\n",
       "      <td>37.77</td>\n",
       "      <td>-122.43</td>\n",
       "    </tr>\n",
       "    <tr>\n",
       "      <td>2997</td>\n",
       "      <td>5.2820</td>\n",
       "      <td>24.0</td>\n",
       "      <td>5.918495</td>\n",
       "      <td>1.000000</td>\n",
       "      <td>950.0</td>\n",
       "      <td>2.978056</td>\n",
       "      <td>32.85</td>\n",
       "      <td>-117.00</td>\n",
       "    </tr>\n",
       "    <tr>\n",
       "      <td>2998</td>\n",
       "      <td>1.3668</td>\n",
       "      <td>52.0</td>\n",
       "      <td>2.673635</td>\n",
       "      <td>1.089431</td>\n",
       "      <td>1515.0</td>\n",
       "      <td>1.759582</td>\n",
       "      <td>37.79</td>\n",
       "      <td>-122.41</td>\n",
       "    </tr>\n",
       "    <tr>\n",
       "      <td>2999</td>\n",
       "      <td>4.9688</td>\n",
       "      <td>15.0</td>\n",
       "      <td>6.185950</td>\n",
       "      <td>1.004132</td>\n",
       "      <td>730.0</td>\n",
       "      <td>3.016529</td>\n",
       "      <td>38.68</td>\n",
       "      <td>-121.25</td>\n",
       "    </tr>\n",
       "  </tbody>\n",
       "</table>\n",
       "<p>3000 rows × 8 columns</p>\n",
       "</div>"
      ],
      "text/plain": [
       "      MedInc  HouseAge  AveRooms  AveBedrms  Population  AveOccup  Latitude  \\\n",
       "0     5.2742      17.0  8.908654   1.884615       351.0  1.687500     32.98   \n",
       "1     1.8438      52.0  3.069847   1.044293      2382.0  4.057922     34.07   \n",
       "2     7.0691      13.0  6.689697   1.009697      2444.0  2.962424     37.57   \n",
       "3     5.4719      38.0  5.890080   0.957105      1228.0  3.292225     37.52   \n",
       "4     4.0156      35.0  6.195312   1.171875       669.0  5.226562     33.93   \n",
       "...      ...       ...       ...        ...         ...       ...       ...   \n",
       "2995  4.5724       4.0  6.837037   1.229630       352.0  2.607407     35.10   \n",
       "2996  3.6031      52.0  3.702592   1.062756      1438.0  1.961801     37.77   \n",
       "2997  5.2820      24.0  5.918495   1.000000       950.0  2.978056     32.85   \n",
       "2998  1.3668      52.0  2.673635   1.089431      1515.0  1.759582     37.79   \n",
       "2999  4.9688      15.0  6.185950   1.004132       730.0  3.016529     38.68   \n",
       "\n",
       "      Longitude  \n",
       "0       -117.27  \n",
       "1       -118.26  \n",
       "2       -121.87  \n",
       "3       -122.28  \n",
       "4       -117.41  \n",
       "...         ...  \n",
       "2995    -117.98  \n",
       "2996    -122.43  \n",
       "2997    -117.00  \n",
       "2998    -122.41  \n",
       "2999    -121.25  \n",
       "\n",
       "[3000 rows x 8 columns]"
      ]
     },
     "execution_count": 5,
     "metadata": {},
     "output_type": "execute_result"
    }
   ],
   "source": [
    "# Read in the california housing data set\n",
    "CAdf = pd.read_csv(\"../Resources/California_Housing.csv\")\n",
    "CAdf"
   ]
  },
  {
   "cell_type": "code",
   "execution_count": null,
   "metadata": {},
   "outputs": [],
   "source": [
    "# Determine which measure of central tendency is most appropriate to describe the Population"
   ]
  },
  {
   "cell_type": "code",
   "execution_count": 14,
   "metadata": {},
   "outputs": [
    {
     "name": "stdout",
     "output_type": "stream",
     "text": [
      "The mean Population is 1387.9633333333334\n"
     ]
    }
   ],
   "source": [
    "Population = CAdf['Population']\n",
    "mean_numpy = np.mean(Population)\n",
    "print(f'The mean Population is {mean_numpy}')"
   ]
  },
  {
   "cell_type": "code",
   "execution_count": 15,
   "metadata": {},
   "outputs": [
    {
     "name": "stdout",
     "output_type": "stream",
     "text": [
      "The median Population is 1152.5\n"
     ]
    }
   ],
   "source": [
    "median_numpy = np.median(Population)\n",
    "print(f'The median Population is {median_numpy}')"
   ]
  },
  {
   "cell_type": "code",
   "execution_count": 16,
   "metadata": {},
   "outputs": [
    {
     "name": "stdout",
     "output_type": "stream",
     "text": [
      "The mode temp is ModeResult(mode=array([1128.]), count=array([8]))\n"
     ]
    }
   ],
   "source": [
    "mode_numpy = sts.mode(Population)\n",
    "print(f'The mode temp is {mode_numpy}')"
   ]
  },
  {
   "cell_type": "code",
   "execution_count": 20,
   "metadata": {},
   "outputs": [
    {
     "data": {
      "image/png": "[encoded data removed]",
      "text/plain": [
       "<Figure size 432x288 with 1 Axes>"
      ]
     },
     "metadata": {
      "needs_background": "light"
     },
     "output_type": "display_data"
    }
   ],
   "source": [
    "plt.hist(Population)\n",
    "plt.xlabel(\"Population\")\n",
    "plt.ylabel(\"Counts\")\n",
    "plt.show()"
   ]
  },
  {
   "cell_type": "code",
   "execution_count": 4,
   "metadata": {},
   "outputs": [],
   "source": [
    "# Determine if the house age in California is normally distributed"
   ]
  },
  {
   "cell_type": "code",
   "execution_count": 18,
   "metadata": {},
   "outputs": [
    {
     "name": "stdout",
     "output_type": "stream",
     "text": [
      "1207378.1533222222\n"
     ]
    }
   ],
   "source": [
    "var_numpy = np.var(Population, ddof=0)\n",
    "print(var_numpy)"
   ]
  },
  {
   "cell_type": "code",
   "execution_count": 19,
   "metadata": {},
   "outputs": [
    {
     "name": "stdout",
     "output_type": "stream",
     "text": [
      "1098.8076052349757\n"
     ]
    }
   ],
   "source": [
    "sd_numpy = np.std(Population, ddof=0)\n",
    "print(sd_numpy)"
   ]
  },
  {
   "cell_type": "code",
   "execution_count": 5,
   "metadata": {},
   "outputs": [],
   "source": [
    "# Determine if there are any potential outliers in the average occupancy in California"
   ]
  },
  {
   "cell_type": "code",
   "execution_count": 6,
   "metadata": {},
   "outputs": [],
   "source": [
    "# With the potential outliers, what is the lowest and highest median income (in $1000s) observed?"
   ]
  },
  {
   "cell_type": "code",
   "execution_count": 7,
   "metadata": {},
   "outputs": [],
   "source": [
    "# Bonus - plot the latitude and longitude of the California housing data using Matplotlib, color the data points using the median income of the block."
   ]
  },
  {
   "cell_type": "code",
   "execution_count": null,
   "metadata": {},
   "outputs": [],
   "source": []
  }
 ],
 "metadata": {
  "kernelspec": {
   "display_name": "Python 3",
   "language": "python",
   "name": "python3"
  },
  "language_info": {
   "codemirror_mode": {
    "name": "ipython",
    "version": 3
   },
   "file_extension": ".py",
   "mimetype": "text/x-python",
   "name": "python",
   "nbconvert_exporter": "python",
   "pygments_lexer": "ipython3",
   "version": "3.6.9"
  }
 },
 "nbformat": 4,
 "nbformat_minor": 2
}
