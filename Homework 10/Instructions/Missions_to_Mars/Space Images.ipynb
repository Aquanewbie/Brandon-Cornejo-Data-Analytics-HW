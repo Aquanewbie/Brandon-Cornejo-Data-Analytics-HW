{
 "cells": [
  {
   "cell_type": "code",
   "execution_count": 13,
   "metadata": {},
   "outputs": [],
   "source": [
    "\n",
    "from bs4 import BeautifulSoup\n",
    "import requests"
   ]
  },
  {
   "cell_type": "code",
   "execution_count": 14,
   "metadata": {},
   "outputs": [],
   "source": [
    "#* Visit the url for JPL Featured Space Image [here]\n",
    "#(https://www.jpl.nasa.gov/spaceimages/?search=&category=Mars).\n",
    "\n",
    "#* Use splinter to navigate the site and find the image url for the current Featured Mars \n",
    "#Image and assign the url string to a variable called `featured_image_url`.\n",
    "\n",
    "#* Make sure to find the image url to the full size `.jpg` image.\n",
    "\n",
    "#* Make sure to save a complete url string for this image."
   ]
  },
  {
   "cell_type": "code",
   "execution_count": 16,
   "metadata": {},
   "outputs": [
    {
     "data": {
      "text/plain": [
       "[<img alt=\"\" class=\"print_only print_logo\" src=\"/assets/images/logo_nasa_trio_black@2x.png\"/>,\n",
       " <img alt=\"\" class=\"print_only print_logo\" src=\"/assets/images/logo_nasa_trio_black@2x.png\"/>,\n",
       " <img alt=\"more arrow\" src=\"/assets/images/overlay-arrow.png\"/>,\n",
       " <img alt=\"Olympia Undae\" class=\"thumb\" src=\"/spaceimages/images/wallpaper/PIA23539-640x350.jpg\" title=\"Olympia Undae\"/>,\n",
       " <img alt=\"more arrow\" src=\"/assets/images/overlay-arrow.png\"/>,\n",
       " <img alt=\"InSight\" arm=\"\" camera=\"\" class=\"thumb\" into=\"\" pit'=\"\" s=\"\" src=\"/spaceimages/images/wallpaper/PIA23512-640x350.jpg\" stares=\"\" the=\"\" title=\"InSight\"/>,\n",
       " <img alt=\"more arrow\" src=\"/assets/images/overlay-arrow.png\"/>,\n",
       " <img alt=\"Micoud Crater\" class=\"thumb\" src=\"/spaceimages/images/wallpaper/PIA23538-640x350.jpg\" title=\"Micoud Crater\"/>,\n",
       " <img alt=\"more arrow\" src=\"/assets/images/overlay-arrow.png\"/>,\n",
       " <img alt=\"Terraced Wall Crater\" class=\"thumb\" src=\"/spaceimages/images/wallpaper/PIA23537-640x350.jpg\" title=\"Terraced Wall Crater\"/>,\n",
       " <img alt=\"more arrow\" src=\"/assets/images/overlay-arrow.png\"/>,\n",
       " <img alt=\"Lyot Crater Dunes\" class=\"thumb\" src=\"/spaceimages/images/wallpaper/PIA23536-640x350.jpg\" title=\"Lyot Crater Dunes\"/>,\n",
       " <img alt=\"more arrow\" src=\"/assets/images/overlay-arrow.png\"/>,\n",
       " <img alt=\"Chincoteague Crater\" class=\"thumb\" src=\"/spaceimages/images/wallpaper/PIA23525-640x350.jpg\" title=\"Chincoteague Crater\"/>,\n",
       " <img alt=\"more arrow\" src=\"/assets/images/overlay-arrow.png\"/>,\n",
       " <img alt=\"Nili Fossae\" class=\"thumb\" src=\"/spaceimages/images/wallpaper/PIA23524-640x350.jpg\" title=\"Nili Fossae\"/>,\n",
       " <img alt=\"more arrow\" src=\"/assets/images/overlay-arrow.png\"/>,\n",
       " <img alt=\"Aromatum Chaos\" class=\"thumb\" src=\"/spaceimages/images/wallpaper/PIA23523-640x350.jpg\" title=\"Aromatum Chaos\"/>,\n",
       " <img alt=\"more arrow\" src=\"/assets/images/overlay-arrow.png\"/>,\n",
       " <img alt=\"Medusae Fossae\" class=\"thumb\" src=\"/spaceimages/images/wallpaper/PIA23522-640x350.jpg\" title=\"Medusae Fossae\"/>,\n",
       " <img alt=\"more arrow\" src=\"/assets/images/overlay-arrow.png\"/>,\n",
       " <img alt=\"Idaeus Fossae\" class=\"thumb\" src=\"/spaceimages/images/wallpaper/PIA23521-640x350.jpg\" title=\"Idaeus Fossae\"/>,\n",
       " <img alt=\"more arrow\" src=\"/assets/images/overlay-arrow.png\"/>,\n",
       " <img alt=\"InSight\" backs=\"\" class=\"thumb\" heat=\"\" hole'=\"\" of=\"\" out=\"\" partially=\"\" probe=\"\" s=\"\" src=\"/spaceimages/images/wallpaper/PIA23213-640x350.jpg\" title=\"InSight\"/>,\n",
       " <img alt=\"more arrow\" src=\"/assets/images/overlay-arrow.png\"/>,\n",
       " <img alt=\"Indus Vallis\" class=\"thumb\" src=\"/spaceimages/images/wallpaper/PIA23510-640x350.jpg\" title=\"Indus Vallis\"/>,\n",
       " <img alt=\"more arrow\" src=\"/assets/images/overlay-arrow.png\"/>,\n",
       " <img alt=\"Curiosity at Glen Etive\" class=\"thumb\" src=\"/spaceimages/images/wallpaper/PIA23378-640x350.jpg\" title=\"Curiosity at Glen Etive\"/>,\n",
       " <img alt=\"more arrow\" src=\"/assets/images/overlay-arrow.png\"/>,\n",
       " <img alt=\"Dark Slope Streaks\" class=\"thumb\" src=\"/spaceimages/images/wallpaper/PIA23509-640x350.jpg\" title=\"Dark Slope Streaks\"/>,\n",
       " <img alt=\"more arrow\" src=\"/assets/images/overlay-arrow.png\"/>,\n",
       " <img alt=\"Indus Vallis Tributaries\" class=\"thumb\" src=\"/spaceimages/images/wallpaper/PIA23508-640x350.jpg\" title=\"Indus Vallis Tributaries\"/>,\n",
       " <img alt=\"more arrow\" src=\"/assets/images/overlay-arrow.png\"/>,\n",
       " <img alt=\"Hephaestus Fossae\" class=\"thumb\" src=\"/spaceimages/images/wallpaper/PIA23507-640x350.jpg\" title=\"Hephaestus Fossae\"/>,\n",
       " <img alt=\"more arrow\" src=\"/assets/images/overlay-arrow.png\"/>,\n",
       " <img alt=\"Enigmatic Canyon Dunes\" class=\"thumb\" src=\"/spaceimages/images/wallpaper/PIA23530-640x350.jpg\" title=\"Enigmatic Canyon Dunes\"/>,\n",
       " <img alt=\"more arrow\" src=\"/assets/images/overlay-arrow.png\"/>,\n",
       " <img alt=\"Pristine Dust Deposits in Syria Planum\" class=\"thumb\" src=\"/spaceimages/images/wallpaper/PIA23529-640x350.jpg\" title=\"Pristine Dust Deposits in Syria Planum\"/>,\n",
       " <img alt=\"more arrow\" src=\"/assets/images/overlay-arrow.png\"/>,\n",
       " <img alt=\"Down in Chukhung Crater\" class=\"thumb\" src=\"/spaceimages/images/wallpaper/PIA23528-640x350.jpg\" title=\"Down in Chukhung Crater\"/>,\n",
       " <img alt=\"more arrow\" src=\"/assets/images/overlay-arrow.png\"/>,\n",
       " <img alt=\"A Martian Game Board\" class=\"thumb\" src=\"/spaceimages/images/wallpaper/PIA23527-640x350.jpg\" title=\"A Martian Game Board\"/>,\n",
       " <img alt=\"more arrow\" src=\"/assets/images/overlay-arrow.png\"/>,\n",
       " <img alt=\"Athabasca Valles\" class=\"thumb\" src=\"/spaceimages/images/wallpaper/PIA23506-640x350.jpg\" title=\"Athabasca Valles\"/>,\n",
       " <img alt=\"more arrow\" src=\"/assets/images/overlay-arrow.png\"/>,\n",
       " <img alt=\"Uranius Fossae\" class=\"thumb\" src=\"/spaceimages/images/wallpaper/PIA23505-640x350.jpg\" title=\"Uranius Fossae\"/>,\n",
       " <img alt=\"more arrow\" src=\"/assets/images/overlay-arrow.png\"/>,\n",
       " <img alt=\"Pinning Helps the Mole Move\" class=\"thumb\" src=\"/spaceimages/images/wallpaper/PIA23379-640x350.jpg\" title=\"Pinning Helps the Mole Move\"/>,\n",
       " <img alt=\"more arrow\" src=\"/assets/images/overlay-arrow.png\"/>,\n",
       " <img alt=\"Elysium Fossae\" class=\"thumb\" src=\"/spaceimages/images/wallpaper/PIA23504-640x350.jpg\" title=\"Elysium Fossae\"/>,\n",
       " <img alt=\"more arrow\" src=\"/assets/images/overlay-arrow.png\"/>,\n",
       " <img alt=\"HiRISE Watches Curiosity Journey Across the Clay Unit\" class=\"thumb\" src=\"/spaceimages/images/wallpaper/PIA23377-640x350.jpg\" title=\"HiRISE Watches Curiosity Journey Across the Clay Unit\"/>,\n",
       " <img alt=\"more arrow\" src=\"/assets/images/overlay-arrow.png\"/>,\n",
       " <img alt=\"The Best View of InSight\" class=\"thumb\" src=\"/spaceimages/images/wallpaper/PIA23376-640x350.jpg\" title=\"The Best View of InSight\"/>,\n",
       " <img alt=\"more arrow\" src=\"/assets/images/overlay-arrow.png\"/>,\n",
       " <img alt=\"Cerberus Fossae\" class=\"thumb\" src=\"/spaceimages/images/wallpaper/PIA23503-640x350.jpg\" title=\"Cerberus Fossae\"/>,\n",
       " <img alt=\"more arrow\" src=\"/assets/images/overlay-arrow.png\"/>,\n",
       " <img alt=\"Arabia Terra Channel\" class=\"thumb\" src=\"/spaceimages/images/wallpaper/PIA23502-640x350.jpg\" title=\"Arabia Terra Channel\"/>,\n",
       " <img alt=\"more arrow\" src=\"/assets/images/overlay-arrow.png\"/>,\n",
       " <img alt=\"Olympica Fossae\" class=\"thumb\" src=\"/spaceimages/images/wallpaper/PIA23501-640x350.jpg\" title=\"Olympica Fossae\"/>,\n",
       " <img alt=\"more arrow\" src=\"/assets/images/overlay-arrow.png\"/>,\n",
       " <img alt=\"Terra Cimmeria\" class=\"thumb\" src=\"/spaceimages/images/wallpaper/PIA23489-640x350.jpg\" title=\"Terra Cimmeria\"/>,\n",
       " <img alt=\"more arrow\" src=\"/assets/images/overlay-arrow.png\"/>,\n",
       " <img alt=\"Lyot Crater Dunes\" class=\"thumb\" src=\"/spaceimages/images/wallpaper/PIA23488-640x350.jpg\" title=\"Lyot Crater Dunes\"/>,\n",
       " <img alt=\"more arrow\" src=\"/assets/images/overlay-arrow.png\"/>,\n",
       " <img alt=\"Cerulli Crater Rim\" class=\"thumb\" src=\"/spaceimages/images/wallpaper/PIA23487-640x350.jpg\" title=\"Cerulli Crater Rim\"/>,\n",
       " <img alt=\"jpl photojournal\" class=\"thumb\" src=\"/assets/images/content/tmp/images/jpl_photojournal(3x1).jpg\"/>,\n",
       " <img alt=\"Great images in NASA\" class=\"thumb\" src=\"/assets/images/content/tmp/images/nasa_images(3x1).jpg\"/>,\n",
       " <img alt=\"more arrow\" src=\"/assets/images/overlay-arrow.png\"/>,\n",
       " <img alt=\"Scientists from NASA's Mars 2020 and ESA's ExoMars projects study stromatolites\" src=\"//imagecache.jpl.nasa.gov/images/640x350/PIA23551-16-640x350.jpg\"/>,\n",
       " <img alt=\"more arrow\" src=\"/assets/images/overlay-arrow.png\"/>,\n",
       " <img alt=\"Color has been added to highlight minerals in this image of Jezero Crater on Mars\" src=\"//imagecache.jpl.nasa.gov/images/640x350/PIA23511-16-640x350.jpg\"/>,\n",
       " <img alt=\"more arrow\" src=\"/assets/images/overlay-arrow.png\"/>,\n",
       " <img alt=\"Move of the Mars 2020 rover into a large vacuum chamber for testing\" src=\"//imagecache.jpl.nasa.gov/images/640x350/PIA23470-1041-640x350.gif\"/>]"
      ]
     },
     "execution_count": 16,
     "metadata": {},
     "output_type": "execute_result"
    }
   ],
   "source": [
    "from splinter import Browser\n",
    "executable_path = {'executable_path': '/usr/local/bin/chromedriver'}\n",
    "browser = Browser('chrome', **executable_path, headless=False)\n",
    "url = 'https://www.jpl.nasa.gov/spaceimages/?search=&category=Mars'\n",
    "browser.visit(url)\n",
    "soup = BeautifulSoup(browser.html, 'html.parser')\n",
    "\n",
    "#Find Container of Image\n",
    "# Retrieve U\n",
    "browser.click_link_by_partial_text('FULL IMAGE')\n",
    "soup.findAll('img')\n",
    "#Imgs=soup.findAll('div', class_='fancybox-inner fancybox-skin fancybox-dark-skin fancybox-dark-skin-open')\n"
   ]
  },
  {
   "cell_type": "code",
   "execution_count": 7,
   "metadata": {},
   "outputs": [
    {
     "data": {
      "text/plain": [
       "[]"
      ]
     },
     "execution_count": 7,
     "metadata": {},
     "output_type": "execute_result"
    }
   ],
   "source": [
    "soup.findAll('img', class_='fancybox-image')"
   ]
  },
  {
   "cell_type": "code",
   "execution_count": 8,
   "metadata": {},
   "outputs": [
    {
     "data": {
      "text/plain": [
       "[]"
      ]
     },
     "execution_count": 8,
     "metadata": {},
     "output_type": "execute_result"
    }
   ],
   "source": [
    "soup.findAll('div', class_='fancybox-inner fancybox-skin fancybox-dark-skin fancybox-dark-skin-open')"
   ]
  },
  {
   "cell_type": "code",
   "execution_count": 9,
   "metadata": {},
   "outputs": [
    {
     "data": {
      "text/plain": [
       "[<img alt=\"\" class=\"print_only print_logo\" src=\"/assets/images/logo_nasa_trio_black@2x.png\"/>,\n",
       " <img alt=\"\" class=\"print_only print_logo\" src=\"/assets/images/logo_nasa_trio_black@2x.png\"/>]"
      ]
     },
     "execution_count": 9,
     "metadata": {},
     "output_type": "execute_result"
    }
   ],
   "source": [
    "soup.findAll('img', class_='print_only print_logo')"
   ]
  },
  {
   "cell_type": "code",
   "execution_count": null,
   "metadata": {},
   "outputs": [],
   "source": []
  }
 ],
 "metadata": {
  "kernelspec": {
   "display_name": "Python 3",
   "language": "python",
   "name": "python3"
  },
  "language_info": {
   "codemirror_mode": {
    "name": "ipython",
    "version": 3
   },
   "file_extension": ".py",
   "mimetype": "text/x-python",
   "name": "python",
   "nbconvert_exporter": "python",
   "pygments_lexer": "ipython3",
   "version": "3.7.3"
  }
 },
 "nbformat": 4,
 "nbformat_minor": 2
}
